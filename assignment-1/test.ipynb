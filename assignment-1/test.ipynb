{
 "cells": [
  {
   "cell_type": "code",
   "execution_count": 16,
   "metadata": {},
   "outputs": [],
   "source": [
    "import random\n",
    "import numpy as np\n",
    "from statistics import mean\n",
    "from random import randrange\n",
    "from sklearn.decomposition import PCA\n",
    "import matplotlib.pyplot as plt\n",
    "import time\n",
    "import sys\n",
    "from scipy.spatial import distance\n",
    "from operator import itemgetter\n",
    "%matplotlib inline"
   ]
  },
  {
   "cell_type": "code",
   "execution_count": null,
   "metadata": {},
   "outputs": [],
   "source": [
    "def new_new_cross_val_score(X, y, distances, cv=5, k=5, p=2):\n",
    "    fold_size = int(y.shape[0]/cv)\n",
    "    indices = np.arange(y.shape[0])\n",
    "    np.random.RandomState(123).shuffle(indices)\n",
    "    result = np.array([])\n",
    "    for i in range(cv):\n",
    "        validation_idx = indices[i*fold_size:(i+1)*fold_size]\n",
    "        train_idx = np.concatenate((indices[:i*fold_size], indices[(i+1)*fold_size:]))\n",
    "        \n",
    "        y_indices = np.argsort(distances[validation_idx][:,train_idx])\n",
    "        k_closests = y[train_idx][y_indices[:,:k]].astype(int)\n",
    "        bincount = np.array([np.count_nonzero(k_closests == j, axis = 1) for j in range(10)]).transpose()\n",
    "        \n",
    "        #random selection\n",
    "        max_bin_values = np.amax(bincount,axis=1)\n",
    "        a = np.array([bincount[j] == max_bin_values[j] for j in range(max_bin_values.shape[0])])\n",
    "        y_pred = np.array([])\n",
    "        for row in a:\n",
    "            tmp = np.asarray(np.nonzero(row)).reshape(-1)\n",
    "            y_pred = np.append(y_pred,np.random.choice(tmp,1,replace=False))      \n",
    "#         y_pred = np.argmax(bincount,axis = 1)\n",
    "        \n",
    "        valid_acc = np.sum(y_pred == y[validation_idx])\n",
    "        result = np.append(result,valid_acc/validation_idx.shape[0])\n",
    "    \n",
    "    return result"
   ]
  },
  {
   "cell_type": "code",
   "execution_count": 2,
   "metadata": {},
   "outputs": [],
   "source": [
    "train = np.genfromtxt(\n",
    "        'datasets/MNIST_train.csv', delimiter=',')"
   ]
  },
  {
   "cell_type": "code",
   "execution_count": 3,
   "metadata": {},
   "outputs": [],
   "source": [
    "X_train, y_train = train[:,1:], train[:,0]"
   ]
  },
  {
   "cell_type": "code",
   "execution_count": 19,
   "metadata": {},
   "outputs": [],
   "source": [
    "def compute_distance(test_X, train_X):\n",
    "    return np.sqrt(np.sum(test_X**2, axis=1, keepdims=True) + np.sum(train_X**2, axis=1, keepdims=True).T - 2*np.dot(test_X, train_X.T))\n",
    "\n",
    "def helper_1(train_X, train_y, cv=5, k=5):\n",
    "    fold_size = int(train_y.shape[0]/cv)\n",
    "    indices = np.arange(train_y.shape[0])\n",
    "    np.random.RandomState(123).shuffle(indices)\n",
    "    results = []\n",
    "    for i in range(cv):\n",
    "        validation_idx = indices[i*fold_size:(i+1)*fold_size]\n",
    "        train_idx = np.concatenate((indices[:i*fold_size], indices[(i+1)*fold_size:]))\n",
    "        batch_train_idx = np.array_split(train_idx, 20)\n",
    "        validation_y_pred = []\n",
    "        for idx in validation_idx:\n",
    "            level = []\n",
    "            for j in range(20):\n",
    "                batch_idx = batch_train_idx[j]\n",
    "                distances = compute_distance(train_X[idx].reshape(1,-1), train_X[batch_idx])\n",
    "                validation_y_index = batch_idx[np.argsort(distances[0])]\n",
    "                dist_idx = list(zip(distances[0][np.argsort(distances[0])], train_y[validation_y_index[:k]].astype(int)))\n",
    "                level = level + dist_idx\n",
    "            level.sort(key=itemgetter(0))\n",
    "            k_closests = [x[1] for x in level[:k]]\n",
    "            validation_y_pred.append(np.argmax(np.bincount(k_closests)))\n",
    "        validation_acc = np.sum(validation_y_pred == train_y[validation_idx])\n",
    "        results.append(validation_acc/validation_idx.shape[0])\n",
    "    return results"
   ]
  },
  {
   "cell_type": "code",
   "execution_count": 26,
   "metadata": {},
   "outputs": [],
   "source": [
    "def helper_2(train_X, train_y, cv=5, k=5):\n",
    "    fold_size, batch_size = int(train_y.shape[0]/cv), 20\n",
    "    indices = np.arange(train_y.shape[0])\n",
    "    np.random.RandomState(123).shuffle(indices)\n",
    "    results = []\n",
    "    for i in range(cv):\n",
    "        validation_idx = indices[i*fold_size:(i+1)*fold_size]\n",
    "        train_idx = np.concatenate((indices[:i*fold_size], indices[(i+1)*fold_size:]))\n",
    "        batch_train_idx = np.array_split(train_idx, batch_size)\n",
    "        batch_validation_idx = np.array_split(validation_idx, batch_size)\n",
    "        validation_y_pred = []\n",
    "        for u in range(batch_size):\n",
    "            validation_unit_batch_idx = batch_validation_idx[u]\n",
    "            for idx in validation_unit_batch_idx:\n",
    "                level = []\n",
    "                for j in range(batch_size):\n",
    "                    train_unit_batch_idx = batch_train_idx[j]\n",
    "                    distances = compute_distance(train_X[idx].reshape(1,-1), train_X[train_unit_batch_idx])\n",
    "                    validation_y_index = train_unit_batch_idx[np.argsort(distances[0])]\n",
    "                    dist_idx = list(zip(distances[0][np.argsort(distances[0])], train_y[validation_y_index[:k]].astype(int)))\n",
    "                    level = level + dist_idx\n",
    "                level.sort(key=itemgetter(0))\n",
    "                k_closests = [x[1] for x in level[:k]]\n",
    "                validation_y_pred.append(np.argmax(np.bincount(k_closests)))\n",
    "        validation_acc = np.sum(validation_y_pred == train_y[validation_idx])\n",
    "        results.append(validation_acc/validation_idx.shape[0])\n",
    "    return results"
   ]
  },
  {
   "cell_type": "code",
   "execution_count": null,
   "metadata": {},
   "outputs": [],
   "source": [
    "start = time.time()\n",
    "acc = helper_2(X_train, y_train, cv=5, k=5)\n",
    "print(f'Time spent:{time.time() - start}')"
   ]
  },
  {
   "cell_type": "code",
   "execution_count": null,
   "metadata": {},
   "outputs": [],
   "source": []
  }
 ],
 "metadata": {
  "kernelspec": {
   "display_name": "Python 3",
   "language": "python",
   "name": "python3"
  },
  "language_info": {
   "codemirror_mode": {
    "name": "ipython",
    "version": 3
   },
   "file_extension": ".py",
   "mimetype": "text/x-python",
   "name": "python",
   "nbconvert_exporter": "python",
   "pygments_lexer": "ipython3",
   "version": "3.7.9"
  }
 },
 "nbformat": 4,
 "nbformat_minor": 5
}
