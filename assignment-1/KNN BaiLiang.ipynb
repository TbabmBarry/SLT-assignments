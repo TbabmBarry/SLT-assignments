{
 "cells": [
  {
   "cell_type": "code",
   "execution_count": null,
   "metadata": {},
   "outputs": [],
   "source": [
    "import math\n",
    "from collections import OrderedDict\n",
    "from operator import itemgetter\n",
    "from numpy import genfromtxt\n",
    "import numpy as np"
   ]
  },
  {
   "cell_type": "code",
   "execution_count": null,
   "metadata": {},
   "outputs": [],
   "source": [
    "def d(Xtest,Xtrain):\n",
    "    sum=0\n",
    "    return np.linalg.norm(Xtest-Xtrain)"
   ]
  },
  {
   "cell_type": "code",
   "execution_count": null,
   "metadata": {},
   "outputs": [],
   "source": [
    "k=10\n",
    "train=genfromtxt(\"MNIST_train_small.csv\",delimiter=',')\n",
    "test=genfromtxt(\"MNIST_test_small.csv\",delimiter=',')\n",
    "distancelist=[]\n",
    "# print(test[0][1:])\n",
    "mis_match=0\n",
    "for i in range(len(test)):\n",
    "    distancelist=[]\n",
    "    for j in range(len(train)): # for every test data, calculate distance to all training data\n",
    "        distancelist.append([train[j][0],d(test[i][1:],train[j][1:])])\n",
    "    distancelist=sorted(distancelist, key=itemgetter(1))\n",
    "    # print(distancelist)\n",
    "    first_k=[]\n",
    "    for j in range(k): # take first kth smallest distances\n",
    "        first_k.append(distancelist[j][0])\n",
    "    prediction=max(first_k, key = first_k.count)\n",
    "    if prediction != test[i][0]:\n",
    "        mis_match+=1\n",
    "        print(prediction, test[i][0])\n",
    "print(f'accuracy:{1-mis_match/len(test)}')"
   ]
  }
 ],
 "metadata": {
  "kernelspec": {
   "display_name": "Python 3",
   "language": "python",
   "name": "python3"
  },
  "language_info": {
   "codemirror_mode": {
    "name": "ipython",
    "version": 3
   },
   "file_extension": ".py",
   "mimetype": "text/x-python",
   "name": "python",
   "nbconvert_exporter": "python",
   "pygments_lexer": "ipython3",
   "version": "3.7.6"
  }
 },
 "nbformat": 4,
 "nbformat_minor": 4
}
