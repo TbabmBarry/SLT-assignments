{
 "cells": [
  {
   "cell_type": "code",
   "execution_count": 159,
   "metadata": {
    "ExecuteTime": {
     "end_time": "2021-02-27T20:25:34.952430Z",
     "start_time": "2021-02-27T20:25:34.945449Z"
    }
   },
   "outputs": [],
   "source": [
    "import random\n",
    "import numpy as np\n",
    "from statistics import mean\n",
    "from random import randrange\n",
    "from sklearn.decomposition import PCA\n",
    "import matplotlib.pyplot as plt\n",
    "import time\n",
    "import sys\n",
    "from scipy.spatial import distance\n",
    "from operator import itemgetter\n",
    "%matplotlib inline"
   ]
  },
  {
   "cell_type": "code",
   "execution_count": 160,
   "metadata": {
    "ExecuteTime": {
     "end_time": "2021-02-27T20:25:38.214278Z",
     "start_time": "2021-02-27T20:25:38.205303Z"
    }
   },
   "outputs": [],
   "source": [
    "def new_new_cross_val_score(X, y, distances, cv=5, k=5, p=2):\n",
    "    fold_size = int(y.shape[0]/cv)\n",
    "    indices = np.arange(y.shape[0])\n",
    "    np.random.RandomState(123).shuffle(indices)\n",
    "    result = np.array([])\n",
    "    for i in range(cv):\n",
    "        validation_idx = indices[i*fold_size:(i+1)*fold_size]\n",
    "        train_idx = np.concatenate((indices[:i*fold_size], indices[(i+1)*fold_size:]))\n",
    "        \n",
    "        y_indices = np.argsort(distances[validation_idx][:,train_idx])\n",
    "        k_closests = y[train_idx][y_indices[:,:k]].astype(int)\n",
    "        bincount = np.array([np.count_nonzero(k_closests == j, axis = 1) for j in range(10)]).transpose()\n",
    "        \n",
    "        #random selection\n",
    "        max_bin_values = np.amax(bincount,axis=1)\n",
    "        a = np.array([bincount[j] == max_bin_values[j] for j in range(max_bin_values.shape[0])])\n",
    "        y_pred = np.array([])\n",
    "        for row in a:\n",
    "            tmp = np.asarray(np.nonzero(row)).reshape(-1)\n",
    "            y_pred = np.append(y_pred,np.random.choice(tmp,1,replace=False))      \n",
    "#         y_pred = np.argmax(bincount,axis = 1)\n",
    "        \n",
    "        valid_acc = np.sum(y_pred == y[validation_idx])\n",
    "        result = np.append(result,valid_acc/validation_idx.shape[0])\n",
    "    \n",
    "    return result"
   ]
  },
  {
   "cell_type": "code",
   "execution_count": 161,
   "metadata": {
    "ExecuteTime": {
     "end_time": "2021-02-27T20:26:12.444564Z",
     "start_time": "2021-02-27T20:25:40.049463Z"
    }
   },
   "outputs": [],
   "source": [
    "train = np.genfromtxt(\n",
    "        'datasets/MNIST_train.csv', delimiter=',')"
   ]
  },
  {
   "cell_type": "code",
   "execution_count": 162,
   "metadata": {
    "ExecuteTime": {
     "end_time": "2021-02-27T20:26:24.327526Z",
     "start_time": "2021-02-27T20:26:24.324491Z"
    }
   },
   "outputs": [],
   "source": [
    "X_train, y_train = train[:,1:], train[:,0]"
   ]
  },
  {
   "cell_type": "code",
   "execution_count": 9,
   "metadata": {
    "ExecuteTime": {
     "end_time": "2021-02-27T16:15:39.943593Z",
     "start_time": "2021-02-27T16:15:39.933613Z"
    }
   },
   "outputs": [],
   "source": [
    "def compute_distance(test_X, train_X):\n",
    "    return np.sqrt(np.sum(test_X**2, axis=1, keepdims=True) + np.sum(train_X**2, axis=1, keepdims=True).T - 2*np.dot(test_X, train_X.T))\n",
    "\n",
    "def helper_1(train_X, train_y, cv=5, k=5):\n",
    "    fold_size = int(train_y.shape[0]/cv)\n",
    "    indices = np.arange(train_y.shape[0])\n",
    "    np.random.RandomState(123).shuffle(indices)\n",
    "    results = []\n",
    "    for i in range(cv):\n",
    "        validation_idx = indices[i*fold_size:(i+1)*fold_size]\n",
    "        train_idx = np.concatenate((indices[:i*fold_size], indices[(i+1)*fold_size:]))\n",
    "        batch_train_idx = np.array_split(train_idx, 20)\n",
    "        validation_y_pred = []\n",
    "        for idx in validation_idx:\n",
    "            level = []\n",
    "            for j in range(20):\n",
    "                batch_idx = batch_train_idx[j]\n",
    "                distances = compute_distance(train_X[idx].reshape(1,-1), train_X[batch_idx])\n",
    "                validation_y_index = batch_idx[np.argsort(distances[0])]\n",
    "                dist_idx = list(zip(distances[0][np.argsort(distances[0])][:k], train_y[validation_y_index[:k]].astype(int)))\n",
    "                level = level + dist_idx\n",
    "            level.sort(key=itemgetter(0))\n",
    "            k_closests = [x[1] for x in level[:k]]\n",
    "            validation_y_pred.append(np.argmax(np.bincount(k_closests)))\n",
    "        validation_acc = np.sum(validation_y_pred == train_y[validation_idx])\n",
    "        results.append(validation_acc/validation_idx.shape[0])\n",
    "    return results"
   ]
  },
  {
   "cell_type": "code",
   "execution_count": 22,
   "metadata": {
    "ExecuteTime": {
     "end_time": "2021-02-27T17:05:38.690758Z",
     "start_time": "2021-02-27T17:05:38.680783Z"
    }
   },
   "outputs": [],
   "source": [
    "def helper_2(train_X, train_y, cv=5, k=5):\n",
    "    fold_size, batch_size = int(train_y.shape[0]/cv), 20\n",
    "    indices = np.arange(train_y.shape[0])\n",
    "    np.random.RandomState(123).shuffle(indices)\n",
    "    results = []\n",
    "    for i in range(cv):\n",
    "        validation_idx = indices[i*fold_size:(i+1)*fold_size]\n",
    "        train_idx = np.concatenate((indices[:i*fold_size], indices[(i+1)*fold_size:]))\n",
    "        batch_train_idx = np.array_split(train_idx, batch_size)\n",
    "        batch_validation_idx = np.array_split(validation_idx, batch_size)\n",
    "        validation_y_pred = []\n",
    "        for u in range(batch_size):\n",
    "            validation_unit_batch_idx = batch_validation_idx[u]\n",
    "            for idx in validation_unit_batch_idx:\n",
    "                level = []\n",
    "                for j in range(batch_size):\n",
    "                    train_unit_batch_idx = batch_train_idx[j]\n",
    "                    distances = compute_distance(train_X[idx].reshape(1,-1), train_X[train_unit_batch_idx])\n",
    "                    validation_y_index = train_unit_batch_idx[np.argsort(distances[0])]\n",
    "                    #zip 2 array with length k\n",
    "                    dist_idx = list(zip(distances[0][np.argsort(distances[0])], train_y[validation_y_index[:k]].astype(int)))\n",
    "                    level = level + dist_idx\n",
    "                level.sort(key=itemgetter(0))\n",
    "                k_closests = [x[1] for x in level[:k]]\n",
    "                validation_y_pred.append(np.argmax(np.bincount(k_closests)))\n",
    "        validation_acc = np.sum(validation_y_pred == train_y[validation_idx])\n",
    "        results.append(validation_acc/validation_idx.shape[0])\n",
    "    return results"
   ]
  },
  {
   "cell_type": "code",
   "execution_count": 89,
   "metadata": {
    "ExecuteTime": {
     "end_time": "2021-02-27T18:51:01.909988Z",
     "start_time": "2021-02-27T18:51:01.903005Z"
    }
   },
   "outputs": [
    {
     "name": "stdout",
     "output_type": "stream",
     "text": [
      "[(array([9]), array([9])), (array([8]), array([10])), (array([7]), array([11]))]\n"
     ]
    }
   ],
   "source": [
    "l = []\n",
    "X1 = np.arange(9,0,-1).reshape(9,-1)\n",
    "Y1 = np.arange(9,18).reshape(9,-1)\n",
    "l += list(zip(X1,Y1))\n",
    "# l.sort(key = itemgetter(0))\n",
    "# print(l)\n",
    "print(l[:3])"
   ]
  },
  {
   "cell_type": "code",
   "execution_count": 127,
   "metadata": {
    "ExecuteTime": {
     "end_time": "2021-02-27T19:33:32.052530Z",
     "start_time": "2021-02-27T19:33:32.048507Z"
    }
   },
   "outputs": [
    {
     "name": "stdout",
     "output_type": "stream",
     "text": [
      "[3 1 7]\n",
      "[5 4 2]\n"
     ]
    }
   ],
   "source": []
  },
  {
   "cell_type": "code",
   "execution_count": 165,
   "metadata": {
    "ExecuteTime": {
     "end_time": "2021-02-27T20:27:35.468201Z",
     "start_time": "2021-02-27T20:27:35.455246Z"
    }
   },
   "outputs": [],
   "source": [
    "def helper_3(train_X, train_y, cv=5, k=5):\n",
    "    fold_size, batch_numbers = int(train_y.shape[0]/cv), 20\n",
    "    indices = np.arange(train_y.shape[0])\n",
    "    np.random.RandomState(123).shuffle(indices)\n",
    "    results = []\n",
    "    for i in range(cv):\n",
    "        validation_idx = indices[i*fold_size:(i+1)*fold_size]\n",
    "        train_idx = np.concatenate((indices[:i*fold_size], indices[(i+1)*fold_size:]))\n",
    "        batch_train_idx = np.array_split(train_idx, batch_numbers)\n",
    "        batch_validation_idx = np.array_split(validation_idx, batch_numbers)\n",
    "        validation_y_pred = []\n",
    "        print(\"start:\",i,\"cross validation\")\n",
    "        for u in range(batch_numbers):\n",
    "            print(\"start:\",u,\"validation batch\")\n",
    "            validation_unit_batch_idx = batch_validation_idx[u]\n",
    "            level = [[] for i in range(validation_unit_batch_idx.shape[0])]\n",
    "            for j in range(batch_numbers):\n",
    "                train_unit_batch_idx = batch_train_idx[j]\n",
    "                distances=distance.cdist(train_X[validation_unit_batch_idx], train_X[train_unit_batch_idx],'minkowski',2)\n",
    "                #validation_y_indices size:(validation_batch_size*train_batch_size)\n",
    "                k_indices = np.argsort(distances)[:,:k]\n",
    "                k_distances = np.array([distances[i,indices] for i, indices in zip(range(k_indices.shape[0]),k_indices)])\n",
    "                validation_y_indices = np.array([train_unit_batch_idx[indices] for indices in k_indices])\n",
    "                k_labels = np.array([train_y[indices] for indices in validation_y_indices]).astype(int)\n",
    "                \n",
    "                #k distances size:(validation_batch_size*k)\n",
    "                #k labels size:(validation_batch_size*k)                \n",
    "                # level element tuple size(k,k)\n",
    "                for i in range(validation_unit_batch_idx.shape[0]):\n",
    "                    level[i].extend(list(zip(k_distances[i],k_labels[i])))\n",
    "            \n",
    "            for i in range(validation_unit_batch_idx.shape[0]):\n",
    "                level[i].sort(key=itemgetter(0))\n",
    "                k_closests = [x[1] for x in level[i][:k]]            \n",
    "                validation_y_pred.append(np.argmax(np.bincount(k_closests)))\n",
    "           \n",
    "        validation_acc = np.sum(validation_y_pred == train_y[validation_idx])\n",
    "        results.append(validation_acc/validation_idx.shape[0])\n",
    "    return results"
   ]
  },
  {
   "cell_type": "code",
   "execution_count": 166,
   "metadata": {
    "ExecuteTime": {
     "end_time": "2021-02-27T21:07:32.333707Z",
     "start_time": "2021-02-27T20:27:36.661791Z"
    }
   },
   "outputs": [
    {
     "name": "stdout",
     "output_type": "stream",
     "text": [
      "start: 0 cross validation\n",
      "start: 0 validation batch\n",
      "start: 1 validation batch\n",
      "start: 2 validation batch\n",
      "start: 3 validation batch\n",
      "start: 4 validation batch\n",
      "start: 5 validation batch\n",
      "start: 6 validation batch\n",
      "start: 7 validation batch\n",
      "start: 8 validation batch\n",
      "start: 9 validation batch\n",
      "start: 10 validation batch\n",
      "start: 11 validation batch\n",
      "start: 12 validation batch\n",
      "start: 13 validation batch\n",
      "start: 14 validation batch\n",
      "start: 15 validation batch\n",
      "start: 16 validation batch\n",
      "start: 17 validation batch\n",
      "start: 18 validation batch\n",
      "start: 19 validation batch\n",
      "start: 1 cross validation\n",
      "start: 0 validation batch\n",
      "start: 1 validation batch\n",
      "start: 2 validation batch\n",
      "start: 3 validation batch\n",
      "start: 4 validation batch\n",
      "start: 5 validation batch\n",
      "start: 6 validation batch\n",
      "start: 7 validation batch\n",
      "start: 8 validation batch\n",
      "start: 9 validation batch\n",
      "start: 10 validation batch\n",
      "start: 11 validation batch\n",
      "start: 12 validation batch\n",
      "start: 13 validation batch\n",
      "start: 14 validation batch\n",
      "start: 15 validation batch\n",
      "start: 16 validation batch\n",
      "start: 17 validation batch\n",
      "start: 18 validation batch\n",
      "start: 19 validation batch\n",
      "start: 2 cross validation\n",
      "start: 0 validation batch\n",
      "start: 1 validation batch\n",
      "start: 2 validation batch\n",
      "start: 3 validation batch\n",
      "start: 4 validation batch\n",
      "start: 5 validation batch\n",
      "start: 6 validation batch\n",
      "start: 7 validation batch\n",
      "start: 8 validation batch\n",
      "start: 9 validation batch\n",
      "start: 10 validation batch\n",
      "start: 11 validation batch\n",
      "start: 12 validation batch\n",
      "start: 13 validation batch\n",
      "start: 14 validation batch\n",
      "start: 15 validation batch\n",
      "start: 16 validation batch\n",
      "start: 17 validation batch\n",
      "start: 18 validation batch\n",
      "start: 19 validation batch\n",
      "start: 3 cross validation\n",
      "start: 0 validation batch\n",
      "start: 1 validation batch\n",
      "start: 2 validation batch\n",
      "start: 3 validation batch\n",
      "start: 4 validation batch\n",
      "start: 5 validation batch\n",
      "start: 6 validation batch\n",
      "start: 7 validation batch\n",
      "start: 8 validation batch\n",
      "start: 9 validation batch\n",
      "start: 10 validation batch\n",
      "start: 11 validation batch\n",
      "start: 12 validation batch\n",
      "start: 13 validation batch\n",
      "start: 14 validation batch\n",
      "start: 15 validation batch\n",
      "start: 16 validation batch\n",
      "start: 17 validation batch\n",
      "start: 18 validation batch\n",
      "start: 19 validation batch\n",
      "start: 4 cross validation\n",
      "start: 0 validation batch\n",
      "start: 1 validation batch\n",
      "start: 2 validation batch\n",
      "start: 3 validation batch\n",
      "start: 4 validation batch\n",
      "start: 5 validation batch\n",
      "start: 6 validation batch\n",
      "start: 7 validation batch\n",
      "start: 8 validation batch\n",
      "start: 9 validation batch\n",
      "start: 10 validation batch\n",
      "start: 11 validation batch\n",
      "start: 12 validation batch\n",
      "start: 13 validation batch\n",
      "start: 14 validation batch\n",
      "start: 15 validation batch\n",
      "start: 16 validation batch\n",
      "start: 17 validation batch\n",
      "start: 18 validation batch\n",
      "start: 19 validation batch\n",
      "Time spent:2395.6668939590454\n",
      "[0.9689166666666666, 0.97025, 0.97075, 0.9715833333333334, 0.9721666666666666]\n"
     ]
    }
   ],
   "source": [
    "start = time.time()\n",
    "acc = helper_3(X_train, y_train, cv=5, k=5)\n",
    "print(f'Time spent:{time.time() - start}')\n",
    "print(acc)"
   ]
  },
  {
   "cell_type": "code",
   "execution_count": 10,
   "metadata": {
    "ExecuteTime": {
     "end_time": "2021-02-27T16:15:59.764803Z",
     "start_time": "2021-02-27T16:15:41.678090Z"
    }
   },
   "outputs": [
    {
     "name": "stdout",
     "output_type": "stream",
     "text": [
      "Time spent:18.081727027893066\n",
      "[0.9083333333333333, 0.925, 0.9183333333333333, 0.9066666666666666, 0.9066666666666666]\n"
     ]
    }
   ],
   "source": [
    "start = time.time()\n",
    "acc = helper_1(X_train, y_train, cv=5, k=5)\n",
    "print(f'Time spent:{time.time() - start}')\n",
    "print(acc)"
   ]
  },
  {
   "cell_type": "code",
   "execution_count": null,
   "metadata": {},
   "outputs": [],
   "source": []
  }
 ],
 "metadata": {
  "kernelspec": {
   "display_name": "Python 3",
   "language": "python",
   "name": "python3"
  },
  "language_info": {
   "codemirror_mode": {
    "name": "ipython",
    "version": 3
   },
   "file_extension": ".py",
   "mimetype": "text/x-python",
   "name": "python",
   "nbconvert_exporter": "python",
   "pygments_lexer": "ipython3",
   "version": "3.7.6"
  }
 },
 "nbformat": 4,
 "nbformat_minor": 5
}
