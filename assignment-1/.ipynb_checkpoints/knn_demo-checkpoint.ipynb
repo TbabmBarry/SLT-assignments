{
 "cells": [
  {
   "cell_type": "code",
   "execution_count": 4,
   "metadata": {},
   "outputs": [],
   "source": [
    "import random\n",
    "import numpy as np\n",
    "from statistics import mean\n",
    "from random import randrange\n",
    "import matplotlib.pyplot as plt\n",
    "%matplotlib inline"
   ]
  },
  {
   "cell_type": "code",
   "execution_count": 8,
   "metadata": {},
   "outputs": [],
   "source": [
    "class KNearestKneighbors():\n",
    "    def __init__(self, k):\n",
    "        self.k = k\n",
    "\n",
    "    def train(self, X, y):\n",
    "        self.X_train = X\n",
    "        self.y_train = y\n",
    "\n",
    "    def predict(self, X_test):\n",
    "        distances = self.compute_distance(X_test)\n",
    "        return self.predict_labels(distances)\n",
    "\n",
    "    def compute_distance(self, X_test):\n",
    "        distances = np.sqrt(np.sum(X_test**2, axis=1, keepdims=True) + np.sum(self.X_train**2, axis=1, keepdims=True).T - 2*np.dot(X_test, self.X_train.T))\n",
    "        return distances\n",
    "#     def compute_distance(self, X_test):\n",
    "#         num_test = X_test.shape[0]\n",
    "#         num_train = self.X_train.shape[0]\n",
    "#         distances = np.zeros((num_test, num_train))\n",
    "        \n",
    "#         for i in range(num_test):\n",
    "#             for j in range(num_train):\n",
    "#                 distances[i, j] = np.sum((X_test[i,:] - self.X_train[j,:])**7)**(7**-1)\n",
    "#         return distances\n",
    "    def predict_labels(self, distances):\n",
    "        n_test = distances.shape[0]\n",
    "        y_pred = np.zeros(n_test)\n",
    "\n",
    "        for i in range(n_test):\n",
    "            y_index = np.argsort(distances[i, :])\n",
    "            k_closests = self.y_train[y_index[:self.k]].astype(int)\n",
    "            y_pred[i] = np.argmax(np.bincount(k_closests))\n",
    "        return y_pred"
   ]
  },
  {
   "cell_type": "code",
   "execution_count": 3,
   "metadata": {},
   "outputs": [],
   "source": [
    "def cross_validation_split(data, folds=5):\n",
    "    k_sets = []\n",
    "    data_copy = data\n",
    "    fold_size = int(data.shape[0] / folds)\n",
    "    for _ in range(folds):\n",
    "        fold = []\n",
    "        while len(fold) < fold_size:\n",
    "            dummy = randrange(data.shape[0])\n",
    "            fold.append(data_copy[dummy])\n",
    "            np.delete(data_copy, dummy)\n",
    "        k_sets.append(np.asarray(fold))\n",
    "    return k_sets"
   ]
  },
  {
   "cell_type": "code",
   "execution_count": 4,
   "metadata": {},
   "outputs": [],
   "source": [
    "def cross_val_score(dataset, cv=5, k=5):\n",
    "    data = cross_validation_split(dataset, cv)\n",
    "    result = []\n",
    "    for i in range(cv):\n",
    "        level = list(range(cv))\n",
    "        level.pop(i)\n",
    "        for j in level:\n",
    "            if j == level[0]:\n",
    "                folds = data[j]\n",
    "            else:    \n",
    "                folds = np.concatenate((folds, data[j]), axis=0)\n",
    "        KNN = KNearestKneighbors(k=k)\n",
    "        KNN.train(folds[:,1:], folds[:,0])\n",
    "        y_pred = KNN.predict(data[i][:,1:])\n",
    "        acc = (y_pred == data[i][:,0]).sum()\n",
    "        result.append(acc / y_pred.shape[0])\n",
    "    return result"
   ]
  },
  {
   "cell_type": "code",
   "execution_count": 6,
   "metadata": {},
   "outputs": [],
   "source": [
    "train_small = np.genfromtxt(\n",
    "        'datasets/MNIST_train_small.csv', delimiter=',')\n",
    "test_small = np.genfromtxt('datasets/MNIST_test_small.csv', delimiter=',')"
   ]
  },
  {
   "cell_type": "code",
   "execution_count": 9,
   "metadata": {},
   "outputs": [
    {
     "name": "stderr",
     "output_type": "stream",
     "text": [
      "D:\\Applications\\Anaconda3\\envs\\ds\\lib\\site-packages\\ipykernel_launcher.py:23: RuntimeWarning: invalid value encountered in double_scalars\n"
     ]
    }
   ],
   "source": [
    "KNN = KNearestKneighbors(5)\n",
    "KNN.train(train_small[:,1:], train_small[:,0])\n",
    "y_pred = KNN.predict(test_small[:,1:])"
   ]
  },
  {
   "cell_type": "code",
   "execution_count": 10,
   "metadata": {},
   "outputs": [
    {
     "name": "stdout",
     "output_type": "stream",
     "text": [
      "Accuracy: 0.204\n"
     ]
    }
   ],
   "source": [
    "print(f\"Accuracy: {sum(y_pred==test_small[:,0])/test_small[:,0].shape[0]}\")"
   ]
  },
  {
   "cell_type": "code",
   "execution_count": 7,
   "metadata": {},
   "outputs": [
    {
     "data": {
      "image/png": "[encoded data removed]",
      "text/plain": [
       "<Figure size 1080x288 with 1 Axes>"
      ]
     },
     "metadata": {
      "needs_background": "light"
     },
     "output_type": "display_data"
    }
   ],
   "source": [
    "random.seed(1)\n",
    "# plot the change in the average accuracy according to k \n",
    "knn = []\n",
    "for f in range(2, 4):\n",
    "    # k-fold cv from scratch for k-NN\n",
    "    knn.append(mean(cross_val_score(train_small, f)))\n",
    "plt.figure(figsize = (15, 4))\n",
    "plt.title(\"k-NN\")\n",
    "plt.xlabel(\"Number of Folds (k)\")\n",
    "plt.ylabel(\"Average Accuracy\")\n",
    "plt.plot(range(2, 4), knn);"
   ]
  },
  {
   "cell_type": "code",
   "execution_count": null,
   "metadata": {},
   "outputs": [],
   "source": []
  }
 ],
 "metadata": {
  "kernelspec": {
   "display_name": "ds",
   "language": "python",
   "name": "ds"
  },
  "language_info": {
   "codemirror_mode": {
    "name": "ipython",
    "version": 3
   },
   "file_extension": ".py",
   "mimetype": "text/x-python",
   "name": "python",
   "nbconvert_exporter": "python",
   "pygments_lexer": "ipython3",
   "version": "3.7.9"
  }
 },
 "nbformat": 4,
 "nbformat_minor": 4
}
