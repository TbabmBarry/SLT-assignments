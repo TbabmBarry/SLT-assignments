{
 "cells": [
  {
   "cell_type": "code",
   "execution_count": 1,
   "metadata": {},
   "outputs": [],
   "source": [
    "import numpy as np\n",
    "from random import randrange"
   ]
  },
  {
   "cell_type": "code",
   "execution_count": 34,
   "metadata": {},
   "outputs": [],
   "source": [
    "class KNearestKneighbors():\n",
    "    def __init__(self, k):\n",
    "        self.k = k\n",
    "\n",
    "    def train(self, X, y):\n",
    "        self.X_train = X\n",
    "        self.y_train = y\n",
    "\n",
    "    def predict(self, X_test):\n",
    "        distances = self.compute_distance(X_test)\n",
    "        return self.predict_labels(distances)\n",
    "\n",
    "    def compute_distance(self, X_test):\n",
    "        distances = np.sqrt(np.sum(X_test**2, axis=1, keepdims=True) + np.sum(self.X_train**2, axis=1, keepdims=True).T - 2*np.dot(X_test, self.X_train.T))\n",
    "        return distances\n",
    "        \n",
    "    def predict_labels(self, distances):\n",
    "        n_test = distances.shape[0]\n",
    "        y_pred = np.zeros(n_test)\n",
    "\n",
    "        for i in range(n_test):\n",
    "            y_index = np.argsort(distances[i, :])\n",
    "            k_closests = self.y_train[y_index[:self.k]].astype(int)\n",
    "            y_pred[i] = np.argmax(np.bincount(k_closests))\n",
    "        return y_pred"
   ]
  },
  {
   "cell_type": "code",
   "execution_count": null,
   "metadata": {},
   "outputs": [],
   "source": [
    "def cross_validation(data, folds=5):\n",
    "    k_sets = []\n",
    "    data_copy = data\n",
    "    fold_size = int(data.shape[0] / folds)\n",
    "    for _ in range(folds):\n",
    "        fold = []\n",
    "        while len(fold) < fold_size:\n",
    "            dummy = randrange(data.shape[0])\n",
    "            index = data.index[dummy]\n",
    "            fold.append(data.loc[index].values.tolist())\n",
    "            data_copy = data_copy.drop(index)\n",
    "        k_sets.append(np.asarray(fold))\n",
    "    return k_sets"
   ]
  },
  {
   "cell_type": "code",
   "execution_count": 20,
   "metadata": {},
   "outputs": [],
   "source": [
    "train_small = np.genfromtxt(\n",
    "        'datasets/MNIST_train_small.csv', delimiter=',')\n",
    "test_small = np.genfromtxt('datasets/MNIST_test_small.csv', delimiter=',')"
   ]
  },
  {
   "cell_type": "code",
   "execution_count": 21,
   "metadata": {},
   "outputs": [],
   "source": [
    "y_train_small = train_small[:, 0]\n",
    "X_train_small = train_small[:, 1:]\n",
    "y_test_small = test_small[:, 0]\n",
    "X_test_small = test_small[:, 1:]"
   ]
  },
  {
   "cell_type": "code",
   "execution_count": 35,
   "metadata": {},
   "outputs": [],
   "source": [
    "KNN = KNearestKneighbors(k=7)\n",
    "KNN.train(X_train_small, y_train_small)"
   ]
  },
  {
   "cell_type": "code",
   "execution_count": 36,
   "metadata": {},
   "outputs": [
    {
     "name": "stdout",
     "output_type": "stream",
     "text": [
      "Accuracy: 0.914\n"
     ]
    }
   ],
   "source": [
    "y_pred = KNN.predict(X_test_small)\n",
    "print(f'Accuracy: {sum(y_pred==y_test_small)/y_test_small.shape[0]}')"
   ]
  },
  {
   "cell_type": "code",
   "execution_count": null,
   "metadata": {},
   "outputs": [],
   "source": []
  }
 ],
 "metadata": {
  "kernelspec": {
   "display_name": "ds",
   "language": "python",
   "name": "ds"
  },
  "language_info": {
   "codemirror_mode": {
    "name": "ipython",
    "version": 3
   },
   "file_extension": ".py",
   "mimetype": "text/x-python",
   "name": "python",
   "nbconvert_exporter": "python",
   "pygments_lexer": "ipython3",
   "version": "3.7.9"
  }
 },
 "nbformat": 4,
 "nbformat_minor": 4
}
