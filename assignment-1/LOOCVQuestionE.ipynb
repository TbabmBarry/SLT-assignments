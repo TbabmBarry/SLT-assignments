{
 "cells": [
  {
   "cell_type": "code",
   "execution_count": 80,
   "id": "dependent-controversy",
   "metadata": {
    "ExecuteTime": {
     "end_time": "2021-03-02T16:13:43.718016Z",
     "start_time": "2021-03-02T16:13:43.712028Z"
    }
   },
   "outputs": [],
   "source": [
    "import random\n",
    "import numpy as np\n",
    "from statistics import mean\n",
    "from random import randrange\n",
    "from sklearn.decomposition import PCA\n",
    "import matplotlib.pyplot as plt\n",
    "import time\n",
    "import sys\n",
    "from scipy.spatial import distance\n",
    "from operator import itemgetter\n",
    "import gc\n",
    "%matplotlib inline"
   ]
  },
  {
   "cell_type": "code",
   "execution_count": 81,
   "id": "remarkable-judgment",
   "metadata": {
    "ExecuteTime": {
     "end_time": "2021-03-02T16:14:18.024333Z",
     "start_time": "2021-03-02T16:13:44.584141Z"
    }
   },
   "outputs": [],
   "source": [
    "train = np.genfromtxt(\n",
    "        'datasets/MNIST_train.csv', delimiter=',')"
   ]
  },
  {
   "cell_type": "code",
   "execution_count": 82,
   "id": "leading-annual",
   "metadata": {
    "ExecuteTime": {
     "end_time": "2021-03-02T16:14:18.030240Z",
     "start_time": "2021-03-02T16:14:18.025295Z"
    }
   },
   "outputs": [],
   "source": [
    "X_train, y_train = train[:,1:], train[:,0]"
   ]
  },
  {
   "cell_type": "code",
   "execution_count": 83,
   "id": "fifth-championship",
   "metadata": {
    "ExecuteTime": {
     "end_time": "2021-03-02T16:14:18.049341Z",
     "start_time": "2021-03-02T16:14:18.031235Z"
    }
   },
   "outputs": [],
   "source": [
    "from scipy.stats import norm\n",
    "import math\n",
    "from sklearn import preprocessing\n",
    "def get_nth_quartile(data, n):  \n",
    "    if n < 1 or n > 3:\n",
    "        return false\n",
    "    data.sort()\n",
    "    position = 1 + (len(data)-1)*n/4\n",
    "    pos_integer = int(math.modf(position)[1])\n",
    "    pos_decimal = position - pos_integer\n",
    "    quartile = data[pos_integer - 1] + (data[pos_integer] - data[pos_integer - 1])*pos_decimal\n",
    "    return quartile\n",
    "\n",
    "def min_max_scaling(data):\n",
    "    return np.where(data.ptp(0) == 0, data, (data - data.min(0)) / data.ptp(0))\n",
    "\n",
    "def standard_scaling(data):\n",
    "    return preprocessing.normalize(data)\n",
    "\n",
    "def max_abs_scaling(data):\n",
    "    return np.where(abs(data.max(0)) == 0, data, data / abs(data.max(0)))\n",
    "\n",
    "def robust_scaling(data):\n",
    "#     return RobustScaler().fit(data).transform(data)\n",
    "    temp=data.copy()\n",
    "    tmp = data.copy()\n",
    "    for i in range(len(tmp)):\n",
    "        quartile=get_nth_quartile(tmp[i],1)\n",
    "        quartiletre=get_nth_quartile(tmp[i],3)\n",
    "        median=get_nth_quartile(tmp[i],2)\n",
    "        if quartiletre-quartile != 0:\n",
    "            temp[i]=[((temp[i][j] - median) / (quartiletre-quartile)) for j in range(len(temp[i]))]\n",
    "    return temp\n",
    "\n",
    "def unit_scaling(data):\n",
    "    temp=np.ndarray(data.shape)\n",
    "    for i in range(len(data)):\n",
    "        for j in range(len(data[i])):\n",
    "            if data[i][j] != 0:\n",
    "                temp[i][j]=1\n",
    "    return temp\n"
   ]
  },
  {
   "cell_type": "code",
   "execution_count": 84,
   "id": "optimum-works",
   "metadata": {
    "ExecuteTime": {
     "end_time": "2021-03-02T16:14:18.322651Z",
     "start_time": "2021-03-02T16:14:18.050364Z"
    }
   },
   "outputs": [],
   "source": [
    "X_train_nr = standard_scaling(X_train)"
   ]
  },
  {
   "cell_type": "code",
   "execution_count": 90,
   "id": "dedicated-world",
   "metadata": {
    "ExecuteTime": {
     "end_time": "2021-03-02T17:45:33.424543Z",
     "start_time": "2021-03-02T17:45:33.415552Z"
    }
   },
   "outputs": [],
   "source": [
    "def leave_one_out(X, y, p):\n",
    "    n_samples = y.shape[0]\n",
    "    indices = np.arange(n_samples)\n",
    "    \n",
    "    batch_numbers = 200\n",
    "    batch_validation_idx = np.array_split(indices, batch_numbers)\n",
    "    \n",
    "    # cumulated_loss for k in range [1,20]\n",
    "    cumulated_loss = [0 for i in range(20)]\n",
    "    accuracy = [0 for i in range(20)]\n",
    "    \n",
    "    for u in range(batch_numbers):\n",
    "        print(f\"start {u} batch\")\n",
    "        validation_idx = batch_validation_idx[u]\n",
    "        pdist = distance.cdist(X[validation_idx], X,'minkowski',2) \n",
    "        y_indices = np.argsort(pdist) #shape: batch_size(3000)*sample_numbers(60,000)\n",
    "        del pdist\n",
    "        gc.collect()\n",
    "        \n",
    "        for k in range(20):\n",
    "            k_closests = y[y_indices[:,1:k+2]] #shape: batch_size*k\n",
    "\n",
    "            # random selection with bincount\n",
    "            # input: k_closest with shape (batch_size,k)\n",
    "            # output: y_pred with shape (batch_size,)\n",
    "\n",
    "            # shape: (batch_size,10)\n",
    "            bincount = np.array([np.count_nonzero(k_closests == j, axis = 1) for j in range(10)]).transpose()\n",
    "\n",
    "            max_bin_values = np.amax(bincount,axis=1)\n",
    "            a = np.array([bincount[j] == max_bin_values[j] for j in range(max_bin_values.shape[0])])\n",
    "            y_pred = np.array([])\n",
    "            for row in a:\n",
    "                tmp = np.asarray(np.nonzero(row)).reshape(-1)\n",
    "                y_pred = np.append(y_pred,np.random.choice(tmp,1,replace=False))\n",
    "\n",
    "            cumulated_loss[k] += np.sum(y_pred == y[validation_idx])\n",
    "    \n",
    "    for k in range(20):\n",
    "        accuracy[k] = cumulated_loss[k] / n_samples\n",
    "    \n",
    "    return accuracy"
   ]
  },
  {
   "cell_type": "code",
   "execution_count": 91,
   "id": "toxic-tension",
   "metadata": {
    "ExecuteTime": {
     "end_time": "2021-03-02T17:45:49.883770Z",
     "start_time": "2021-03-02T17:45:34.650970Z"
    }
   },
   "outputs": [
    {
     "name": "stdout",
     "output_type": "stream",
     "text": [
      "start 0 batch\n"
     ]
    },
    {
     "ename": "KeyboardInterrupt",
     "evalue": "",
     "output_type": "error",
     "traceback": [
      "\u001b[1;31m---------------------------------------------------------------------------\u001b[0m",
      "\u001b[1;31mKeyboardInterrupt\u001b[0m                         Traceback (most recent call last)",
      "\u001b[1;32m<ipython-input-91-95049d3f8521>\u001b[0m in \u001b[0;36m<module>\u001b[1;34m\u001b[0m\n\u001b[1;32m----> 1\u001b[1;33m \u001b[0mresults\u001b[0m \u001b[1;33m=\u001b[0m \u001b[0mleave_one_out\u001b[0m\u001b[1;33m(\u001b[0m\u001b[0mX_train_nr\u001b[0m\u001b[1;33m,\u001b[0m\u001b[0my_train\u001b[0m\u001b[1;33m,\u001b[0m\u001b[1;36m2\u001b[0m\u001b[1;33m)\u001b[0m\u001b[1;33m\u001b[0m\u001b[1;33m\u001b[0m\u001b[0m\n\u001b[0m",
      "\u001b[1;32m<ipython-input-90-95107a980194>\u001b[0m in \u001b[0;36mleave_one_out\u001b[1;34m(X, y, p)\u001b[0m\n\u001b[0;32m     13\u001b[0m         \u001b[0mprint\u001b[0m\u001b[1;33m(\u001b[0m\u001b[1;34mf\"start {u} batch\"\u001b[0m\u001b[1;33m)\u001b[0m\u001b[1;33m\u001b[0m\u001b[1;33m\u001b[0m\u001b[0m\n\u001b[0;32m     14\u001b[0m         \u001b[0mvalidation_idx\u001b[0m \u001b[1;33m=\u001b[0m \u001b[0mbatch_validation_idx\u001b[0m\u001b[1;33m[\u001b[0m\u001b[0mu\u001b[0m\u001b[1;33m]\u001b[0m\u001b[1;33m\u001b[0m\u001b[1;33m\u001b[0m\u001b[0m\n\u001b[1;32m---> 15\u001b[1;33m         \u001b[0mpdist\u001b[0m \u001b[1;33m=\u001b[0m \u001b[0mdistance\u001b[0m\u001b[1;33m.\u001b[0m\u001b[0mcdist\u001b[0m\u001b[1;33m(\u001b[0m\u001b[0mX\u001b[0m\u001b[1;33m[\u001b[0m\u001b[0mvalidation_idx\u001b[0m\u001b[1;33m]\u001b[0m\u001b[1;33m,\u001b[0m \u001b[0mX\u001b[0m\u001b[1;33m,\u001b[0m\u001b[1;34m'minkowski'\u001b[0m\u001b[1;33m,\u001b[0m\u001b[1;36m2\u001b[0m\u001b[1;33m)\u001b[0m\u001b[1;33m\u001b[0m\u001b[1;33m\u001b[0m\u001b[0m\n\u001b[0m\u001b[0;32m     16\u001b[0m         \u001b[0my_indices\u001b[0m \u001b[1;33m=\u001b[0m \u001b[0mnp\u001b[0m\u001b[1;33m.\u001b[0m\u001b[0margsort\u001b[0m\u001b[1;33m(\u001b[0m\u001b[0mpdist\u001b[0m\u001b[1;33m)\u001b[0m \u001b[1;31m#shape: batch_size(3000)*sample_numbers(60,000)\u001b[0m\u001b[1;33m\u001b[0m\u001b[1;33m\u001b[0m\u001b[0m\n\u001b[0;32m     17\u001b[0m         \u001b[1;32mdel\u001b[0m \u001b[0mpdist\u001b[0m\u001b[1;33m\u001b[0m\u001b[1;33m\u001b[0m\u001b[0m\n",
      "\u001b[1;32mC:\\ProgramData\\Anaconda3\\lib\\site-packages\\scipy\\spatial\\distance.py\u001b[0m in \u001b[0;36mcdist\u001b[1;34m(XA, XB, metric, *args, **kwargs)\u001b[0m\n\u001b[0;32m   2807\u001b[0m             cdist_fn = getattr(_distance_wrap,\n\u001b[0;32m   2808\u001b[0m                                \"cdist_%s_%s_wrap\" % (metric_name, typ))\n\u001b[1;32m-> 2809\u001b[1;33m             \u001b[0mcdist_fn\u001b[0m\u001b[1;33m(\u001b[0m\u001b[0mXA\u001b[0m\u001b[1;33m,\u001b[0m \u001b[0mXB\u001b[0m\u001b[1;33m,\u001b[0m \u001b[0mdm\u001b[0m\u001b[1;33m,\u001b[0m \u001b[1;33m**\u001b[0m\u001b[0mkwargs\u001b[0m\u001b[1;33m)\u001b[0m\u001b[1;33m\u001b[0m\u001b[1;33m\u001b[0m\u001b[0m\n\u001b[0m\u001b[0;32m   2810\u001b[0m             \u001b[1;32mreturn\u001b[0m \u001b[0mdm\u001b[0m\u001b[1;33m\u001b[0m\u001b[1;33m\u001b[0m\u001b[0m\n\u001b[0;32m   2811\u001b[0m \u001b[1;33m\u001b[0m\u001b[0m\n",
      "\u001b[1;31mKeyboardInterrupt\u001b[0m: "
     ]
    }
   ],
   "source": [
    "results = leave_one_out(X_train_nr,y_train,2)"
   ]
  },
  {
   "cell_type": "code",
   "execution_count": 89,
   "id": "hydraulic-geometry",
   "metadata": {
    "ExecuteTime": {
     "end_time": "2021-03-02T17:45:12.718074Z",
     "start_time": "2021-03-02T17:45:12.578386Z"
    }
   },
   "outputs": [
    {
     "data": {
      "image/png": "[encoded data removed]",
      "text/plain": [
       "<Figure size 1080x288 with 1 Axes>"
      ]
     },
     "metadata": {
      "needs_background": "light"
     },
     "output_type": "display_data"
    }
   ],
   "source": [
    "k_neighbors = np.linspace(1,20,20)\n",
    "plt.figure(figsize = (15, 4))\n",
    "plt.title(\"k-NN\")\n",
    "plt.xticks(k_neighbors)\n",
    "plt.xlabel(\"Number of neighbors\")\n",
    "plt.ylabel(\"Average Accuracy\")\n",
    "plt.plot(k_neighbors,results)\n",
    "plt.text(results.index(max(results))+1, max(results), f'Neighbor:{results.index(max(results))+1}, Score:{max(results)}')\n",
    "plt.show()"
   ]
  },
  {
   "cell_type": "code",
   "execution_count": 18,
   "id": "engaged-water",
   "metadata": {
    "ExecuteTime": {
     "end_time": "2021-03-02T07:00:46.248293Z",
     "start_time": "2021-03-02T07:00:46.237282Z"
    }
   },
   "outputs": [],
   "source": [
    "def helper_4(train_X, train_y, cv=5):\n",
    "    fold_size, batch_numbers = int(train_y.shape[0]/cv), 20\n",
    "    indices = np.arange(train_y.shape[0])\n",
    "    np.random.RandomState(123).shuffle(indices)\n",
    "    results = [[] for k in range(20)]\n",
    "    for i in range(cv):\n",
    "        validation_idx = indices[i*fold_size:(i+1)*fold_size]\n",
    "        train_idx = np.concatenate((indices[:i*fold_size], indices[(i+1)*fold_size:]))\n",
    "        batch_train_idx = np.array_split(train_idx, batch_numbers)\n",
    "        batch_validation_idx = np.array_split(validation_idx, batch_numbers)\n",
    "        validation_y_pred = [[] for k in range(20)]\n",
    "        \n",
    "        print(\"start:\",i,\"cross validation\")\n",
    "        for u in range(batch_numbers):\n",
    "            print(\"start:\",u,\"validation batch\")\n",
    "            validation_unit_batch_idx = batch_validation_idx[u]\n",
    "            level = [[[] for i in range(validation_unit_batch_idx.shape[0])] for k in range(20)]\n",
    "            for j in range(batch_numbers):\n",
    "                train_unit_batch_idx = batch_train_idx[j]\n",
    "                distances=distance.cdist(train_X[validation_unit_batch_idx], train_X[train_unit_batch_idx],'minkowski',2)\n",
    "                #validation_y_indices size:(validation_batch_size*train_batch_size)\n",
    "                _indices = np.argsort(distances)[:,:20]\n",
    "                for k in range(20):\n",
    "                    k_indices = _indices[:,:k+1]\n",
    "                    k_distances = np.array([distances[i,indices] for i, indices in zip(range(k_indices.shape[0]),k_indices)])\n",
    "                    validation_y_indices = np.array([train_unit_batch_idx[indices] for indices in k_indices])\n",
    "                    k_labels = np.array([train_y[indices] for indices in validation_y_indices]).astype(int)\n",
    "                    #k distances size:(validation_batch_size*k)\n",
    "                    #k labels size:(validation_batch_size*k)                \n",
    "                    # level element tuple size(k,k)\n",
    "                    for i in range(validation_unit_batch_idx.shape[0]):\n",
    "                        level[k][i].extend(list(zip(k_distances[i],k_labels[i])))\n",
    "                        \n",
    "                 \n",
    "            for i in range(validation_unit_batch_idx.shape[0]):\n",
    "                for k in range(20):\n",
    "                    level[k][i].sort(key=itemgetter(0))\n",
    "                    k_closests = np.array([x[1] for x in level[k][i][:k+1]])\n",
    "                    bincount = np.array([np.count_nonzero(k_closests == j) for j in range(10)]).transpose()\n",
    "                    max_bin_values = np.amax(bincount)\n",
    "                    a = np.array([bincount == max_bin_values])\n",
    "                    \n",
    "                    for row in a:\n",
    "                        tmp = np.asarray(np.nonzero(row)).reshape(-1)\n",
    "                        validation_y_pred[k] = np.append(validation_y_pred[k],np.random.choice(tmp,1,replace=False))   \n",
    "                        \n",
    "        for k in range(20):\n",
    "            validation_acc = np.sum(validation_y_pred[k] == train_y[validation_idx])\n",
    "            results[k].append(validation_acc/validation_idx.shape[0])\n",
    "    return results"
   ]
  },
  {
   "cell_type": "code",
   "execution_count": 19,
   "id": "quarterly-wagner",
   "metadata": {
    "ExecuteTime": {
     "end_time": "2021-03-02T07:52:50.839485Z",
     "start_time": "2021-03-02T07:00:48.723973Z"
    }
   },
   "outputs": [
    {
     "name": "stdout",
     "output_type": "stream",
     "text": [
      "start: 0 cross validation\n",
      "start: 0 validation batch\n",
      "start: 1 validation batch\n",
      "start: 2 validation batch\n",
      "start: 3 validation batch\n",
      "start: 4 validation batch\n",
      "start: 5 validation batch\n",
      "start: 6 validation batch\n",
      "start: 7 validation batch\n",
      "start: 8 validation batch\n",
      "start: 9 validation batch\n",
      "start: 10 validation batch\n",
      "start: 11 validation batch\n",
      "start: 12 validation batch\n",
      "start: 13 validation batch\n",
      "start: 14 validation batch\n",
      "start: 15 validation batch\n",
      "start: 16 validation batch\n",
      "start: 17 validation batch\n",
      "start: 18 validation batch\n",
      "start: 19 validation batch\n",
      "start: 1 cross validation\n",
      "start: 0 validation batch\n",
      "start: 1 validation batch\n",
      "start: 2 validation batch\n",
      "start: 3 validation batch\n",
      "start: 4 validation batch\n",
      "start: 5 validation batch\n",
      "start: 6 validation batch\n",
      "start: 7 validation batch\n",
      "start: 8 validation batch\n",
      "start: 9 validation batch\n",
      "start: 10 validation batch\n",
      "start: 11 validation batch\n",
      "start: 12 validation batch\n",
      "start: 13 validation batch\n",
      "start: 14 validation batch\n",
      "start: 15 validation batch\n",
      "start: 16 validation batch\n",
      "start: 17 validation batch\n",
      "start: 18 validation batch\n",
      "start: 19 validation batch\n",
      "start: 2 cross validation\n",
      "start: 0 validation batch\n",
      "start: 1 validation batch\n",
      "start: 2 validation batch\n",
      "start: 3 validation batch\n",
      "start: 4 validation batch\n",
      "start: 5 validation batch\n",
      "start: 6 validation batch\n",
      "start: 7 validation batch\n",
      "start: 8 validation batch\n",
      "start: 9 validation batch\n",
      "start: 10 validation batch\n",
      "start: 11 validation batch\n",
      "start: 12 validation batch\n",
      "start: 13 validation batch\n",
      "start: 14 validation batch\n",
      "start: 15 validation batch\n",
      "start: 16 validation batch\n",
      "start: 17 validation batch\n",
      "start: 18 validation batch\n",
      "start: 19 validation batch\n",
      "start: 3 cross validation\n",
      "start: 0 validation batch\n",
      "start: 1 validation batch\n",
      "start: 2 validation batch\n",
      "start: 3 validation batch\n",
      "start: 4 validation batch\n",
      "start: 5 validation batch\n",
      "start: 6 validation batch\n",
      "start: 7 validation batch\n",
      "start: 8 validation batch\n",
      "start: 9 validation batch\n",
      "start: 10 validation batch\n",
      "start: 11 validation batch\n",
      "start: 12 validation batch\n",
      "start: 13 validation batch\n",
      "start: 14 validation batch\n",
      "start: 15 validation batch\n",
      "start: 16 validation batch\n",
      "start: 17 validation batch\n",
      "start: 18 validation batch\n",
      "start: 19 validation batch\n",
      "start: 4 cross validation\n",
      "start: 0 validation batch\n",
      "start: 1 validation batch\n",
      "start: 2 validation batch\n",
      "start: 3 validation batch\n",
      "start: 4 validation batch\n",
      "start: 5 validation batch\n",
      "start: 6 validation batch\n",
      "start: 7 validation batch\n",
      "start: 8 validation batch\n",
      "start: 9 validation batch\n",
      "start: 10 validation batch\n",
      "start: 11 validation batch\n",
      "start: 12 validation batch\n",
      "start: 13 validation batch\n",
      "start: 14 validation batch\n",
      "start: 15 validation batch\n",
      "start: 16 validation batch\n",
      "start: 17 validation batch\n",
      "start: 18 validation batch\n",
      "start: 19 validation batch\n",
      "start: 5 cross validation\n",
      "start: 0 validation batch\n",
      "start: 1 validation batch\n",
      "start: 2 validation batch\n",
      "start: 3 validation batch\n",
      "start: 4 validation batch\n",
      "start: 5 validation batch\n",
      "start: 6 validation batch\n",
      "start: 7 validation batch\n",
      "start: 8 validation batch\n",
      "start: 9 validation batch\n",
      "start: 10 validation batch\n",
      "start: 11 validation batch\n",
      "start: 12 validation batch\n",
      "start: 13 validation batch\n",
      "start: 14 validation batch\n",
      "start: 15 validation batch\n",
      "start: 16 validation batch\n",
      "start: 17 validation batch\n",
      "start: 18 validation batch\n",
      "start: 19 validation batch\n",
      "start: 6 cross validation\n",
      "start: 0 validation batch\n",
      "start: 1 validation batch\n",
      "start: 2 validation batch\n",
      "start: 3 validation batch\n",
      "start: 4 validation batch\n",
      "start: 5 validation batch\n",
      "start: 6 validation batch\n",
      "start: 7 validation batch\n",
      "start: 8 validation batch\n",
      "start: 9 validation batch\n",
      "start: 10 validation batch\n",
      "start: 11 validation batch\n",
      "start: 12 validation batch\n",
      "start: 13 validation batch\n",
      "start: 14 validation batch\n",
      "start: 15 validation batch\n",
      "start: 16 validation batch\n",
      "start: 17 validation batch\n",
      "start: 18 validation batch\n",
      "start: 19 validation batch\n",
      "start: 7 cross validation\n",
      "start: 0 validation batch\n",
      "start: 1 validation batch\n",
      "start: 2 validation batch\n",
      "start: 3 validation batch\n",
      "start: 4 validation batch\n",
      "start: 5 validation batch\n",
      "start: 6 validation batch\n",
      "start: 7 validation batch\n",
      "start: 8 validation batch\n",
      "start: 9 validation batch\n",
      "start: 10 validation batch\n",
      "start: 11 validation batch\n",
      "start: 12 validation batch\n",
      "start: 13 validation batch\n",
      "start: 14 validation batch\n",
      "start: 15 validation batch\n",
      "start: 16 validation batch\n",
      "start: 17 validation batch\n",
      "start: 18 validation batch\n",
      "start: 19 validation batch\n",
      "start: 8 cross validation\n",
      "start: 0 validation batch\n",
      "start: 1 validation batch\n",
      "start: 2 validation batch\n",
      "start: 3 validation batch\n",
      "start: 4 validation batch\n",
      "start: 5 validation batch\n",
      "start: 6 validation batch\n",
      "start: 7 validation batch\n",
      "start: 8 validation batch\n",
      "start: 9 validation batch\n",
      "start: 10 validation batch\n",
      "start: 11 validation batch\n",
      "start: 12 validation batch\n",
      "start: 13 validation batch\n",
      "start: 14 validation batch\n",
      "start: 15 validation batch\n",
      "start: 16 validation batch\n",
      "start: 17 validation batch\n",
      "start: 18 validation batch\n",
      "start: 19 validation batch\n",
      "start: 9 cross validation\n",
      "start: 0 validation batch\n",
      "start: 1 validation batch\n",
      "start: 2 validation batch\n",
      "start: 3 validation batch\n",
      "start: 4 validation batch\n",
      "start: 5 validation batch\n",
      "start: 6 validation batch\n",
      "start: 7 validation batch\n",
      "start: 8 validation batch\n",
      "start: 9 validation batch\n",
      "start: 10 validation batch\n",
      "start: 11 validation batch\n",
      "start: 12 validation batch\n",
      "start: 13 validation batch\n",
      "start: 14 validation batch\n",
      "start: 15 validation batch\n",
      "start: 16 validation batch\n",
      "start: 17 validation batch\n",
      "start: 18 validation batch\n",
      "start: 19 validation batch\n",
      "0.9761666666666668\n",
      "0.9719333333333333\n",
      "0.9766166666666669\n",
      "0.9753666666666667\n",
      "0.9759333333333334\n",
      "0.9745166666666666\n",
      "0.9747\n",
      "0.9736666666666668\n",
      "0.9732333333333333\n",
      "0.9719999999999999\n",
      "0.9719333333333331\n",
      "0.9713833333333334\n",
      "0.9708499999999999\n",
      "0.9707333333333332\n",
      "0.9702833333333333\n",
      "0.9696666666666666\n",
      "0.9692833333333333\n",
      "0.9688333333333334\n",
      "0.9684833333333334\n",
      "0.9677833333333334\n"
     ]
    }
   ],
   "source": [
    "acc = helper_4(X_train_nr, y_train, cv=10)\n",
    "for result in acc:\n",
    "    print(sum(result)/10)"
   ]
  },
  {
   "cell_type": "code",
   "execution_count": 20,
   "id": "fifteen-angle",
   "metadata": {
    "ExecuteTime": {
     "end_time": "2021-03-02T07:56:31.990830Z",
     "start_time": "2021-03-02T07:56:31.987206Z"
    }
   },
   "outputs": [],
   "source": [
    "results = []\n",
    "for result in acc:\n",
    "    results.append(sum(result)/10)"
   ]
  },
  {
   "cell_type": "code",
   "execution_count": 21,
   "id": "suspected-computer",
   "metadata": {
    "ExecuteTime": {
     "end_time": "2021-03-02T07:56:33.183975Z",
     "start_time": "2021-03-02T07:56:32.975986Z"
    }
   },
   "outputs": [
    {
     "data": {
      "image/png": "[encoded data removed]",
      "text/plain": [
       "<Figure size 1080x288 with 1 Axes>"
      ]
     },
     "metadata": {
      "needs_background": "light"
     },
     "output_type": "display_data"
    }
   ],
   "source": [
    "k_neighbors = np.linspace(1,20,20)\n",
    "plt.figure(figsize = (15, 4))\n",
    "plt.title(\"k-NN\")\n",
    "plt.xticks(k_neighbors)\n",
    "plt.xlabel(\"Number of neighbors\")\n",
    "plt.ylabel(\"Average Accuracy\")\n",
    "plt.plot(k_neighbors,results)\n",
    "plt.text(results.index(max(results))+1, max(results), f'Neighbor:{results.index(max(results))+1}, Score:{max(results)}')\n",
    "plt.show()"
   ]
  },
  {
   "cell_type": "code",
   "execution_count": null,
   "id": "attended-faculty",
   "metadata": {},
   "outputs": [],
   "source": [
    "x = np.array([])"
   ]
  }
 ],
 "metadata": {
  "kernelspec": {
   "display_name": "Python 3",
   "language": "python",
   "name": "python3"
  },
  "language_info": {
   "codemirror_mode": {
    "name": "ipython",
    "version": 3
   },
   "file_extension": ".py",
   "mimetype": "text/x-python",
   "name": "python",
   "nbconvert_exporter": "python",
   "pygments_lexer": "ipython3",
   "version": "3.7.6"
  }
 },
 "nbformat": 4,
 "nbformat_minor": 5
}
